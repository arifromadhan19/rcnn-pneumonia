{
 "cells": [
  {
   "cell_type": "code",
   "execution_count": 28,
   "metadata": {},
   "outputs": [],
   "source": [
    "import warnings\n",
    "warnings.filterwarnings('ignore')\n",
    "\n",
    "from PIL import Image\n",
    "from tqdm import tqdm\n",
    "\n",
    "import multiprocessing\n",
    "import os\n",
    "import pydicom\n",
    "\n",
    "import json"
   ]
  },
  {
   "cell_type": "markdown",
   "metadata": {},
   "source": [
    "## Convert DCM to PNG"
   ]
  },
  {
   "cell_type": "code",
   "execution_count": 3,
   "metadata": {},
   "outputs": [
    {
     "data": {
      "text/plain": [
       "{'TRAIN_RAW_DATA_DIR': 'data/stage_2_train_images',\n",
       " 'TEST_RAW_DATA_DIR': 'data/stage_2_test_images',\n",
       " 'TRAIN_CLEAN_DATA_DIR': 'data/stage_2_train_images_png',\n",
       " 'TEST_CLEAN_DATA_DIR': 'data/stage_2_test_images_png',\n",
       " 'TRAINING_SPLIT_DIR': 'training_splits',\n",
       " 'DETAILED_CLASS_INFO': 'data/stage_2_detailed_class_info.csv',\n",
       " 'TRAIN_LABELS': 'data/stage_2_train_labels.csv',\n",
       " 'CLASSIFICATION_WEIGHTS_DIR': 'classification/weights',\n",
       " 'CLASSIFICATION_RESULTS_DIR': 'classification/results',\n",
       " 'DETECTION_WEIGHTS_DIR': 'detection/weights',\n",
       " 'DETECTION_RESULTS_DIR': 'detection/results'}"
      ]
     },
     "execution_count": 3,
     "metadata": {},
     "output_type": "execute_result"
    }
   ],
   "source": [
    "with open(\"../SETTINGS.json\") as f:\n",
    "    SETTINGS = json.load(f)\n",
    "    \n",
    "SETTINGS"
   ]
  },
  {
   "cell_type": "code",
   "execution_count": 4,
   "metadata": {},
   "outputs": [
    {
     "name": "stdout",
     "output_type": "stream",
     "text": [
      "/home/arif/Arif/Private/kaggle/pneumonia/rcnn/preprocessing\n"
     ]
    }
   ],
   "source": [
    "# os.chdir(os.path.dirname(__file__))\n",
    "print(os.getcwd())"
   ]
  },
  {
   "cell_type": "code",
   "execution_count": 30,
   "metadata": {},
   "outputs": [
    {
     "name": "stdout",
     "output_type": "stream",
     "text": [
      "../data/stage_2_train_images\n",
      "../data/stage_2_train_images_png\n"
     ]
    }
   ],
   "source": [
    "SRC_PATH = os.path.join(\"../\", SETTINGS[\"TRAIN_RAW_DATA_DIR\"])\n",
    "DST_PATH  = os.path.join(\"../\", SETTINGS[\"TRAIN_CLEAN_DATA_DIR\"])\n",
    "print(SRC_PATH)\n",
    "print(DST_PATH)\n"
   ]
  },
  {
   "cell_type": "code",
   "execution_count": 20,
   "metadata": {},
   "outputs": [],
   "source": [
    "def convert(patientId, src_path=SRC_PATH, dst_path=DST_PATH):\n",
    "    '''\n",
    "    Convert dcm to png\n",
    "    '''\n",
    "    Image.fromarray(\n",
    "        pydicom.dcmread(\n",
    "            os.path.join(SRC_PATH, patientId + '.dcm')\n",
    "        ).pixel_array\n",
    "    ).save(os.path.join(DST_PATH, patientId + '.png'))"
   ]
  },
  {
   "cell_type": "code",
   "execution_count": 29,
   "metadata": {},
   "outputs": [
    {
     "name": "stderr",
     "output_type": "stream",
     "text": [
      "                                                               \r"
     ]
    },
    {
     "name": "stdout",
     "output_type": "stream",
     "text": [
      "[Done]!\n"
     ]
    }
   ],
   "source": [
    "def main():\n",
    "    '''\n",
    "    Main Method\n",
    "    '''\n",
    "    assert os.path.lexists(SRC_PATH)\n",
    "    assert os.path.lexists(DST_PATH)\n",
    "\n",
    "    patient_ids = [os.path.splitext(f)[0] for f in os.listdir(SRC_PATH)]\n",
    "\n",
    "    with multiprocessing.Pool(multiprocessing.cpu_count()) as p:\n",
    "        pbar = tqdm(\n",
    "              total=len(patient_ids)\n",
    "            , leave=False\n",
    "            , desc=\"Converting\"\n",
    "        )\n",
    "        for _ in p.imap_unordered(convert, patient_ids):\n",
    "            pbar.update(1)\n",
    "        pbar.close()\n",
    "\n",
    "    print(\"[Done]!\")\n",
    "\n",
    "\n",
    "\n",
    "\n",
    "if __name__ == '__main__':\n",
    "    main()"
   ]
  }
 ],
 "metadata": {
  "kernelspec": {
   "display_name": "env_kaggle",
   "language": "python",
   "name": "env_kaggle"
  },
  "language_info": {
   "codemirror_mode": {
    "name": "ipython",
    "version": 3
   },
   "file_extension": ".py",
   "mimetype": "text/x-python",
   "name": "python",
   "nbconvert_exporter": "python",
   "pygments_lexer": "ipython3",
   "version": "3.6.6"
  }
 },
 "nbformat": 4,
 "nbformat_minor": 2
}
