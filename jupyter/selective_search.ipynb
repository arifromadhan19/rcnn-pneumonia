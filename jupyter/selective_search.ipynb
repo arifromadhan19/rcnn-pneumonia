{
 "cells": [
  {
   "cell_type": "code",
   "execution_count": 14,
   "metadata": {},
   "outputs": [],
   "source": [
    "import warnings\n",
    "warnings.filterwarnings('ignore')\n",
    "\n",
    "import os \n",
    "import numpy as np\n",
    "import seaborn as sns\n",
    "import matplotlib.pyplot as plt\n",
    "import pandas as pd \n",
    "import scipy.misc\n",
    "import skimage.segmentation\n",
    "import skimage.feature\n",
    "\n",
    "from copy import copy\n",
    "from IPython.display import HTML"
   ]
  },
  {
   "cell_type": "code",
   "execution_count": 15,
   "metadata": {},
   "outputs": [
    {
     "data": {
      "text/plain": [
       "'/home/arif/Arif/Private/kaggle/pneumonia/rcnn/app/assets/data/stage_2_train_images_png'"
      ]
     },
     "execution_count": 15,
     "metadata": {},
     "output_type": "execute_result"
    }
   ],
   "source": [
    "base_dir = \"/home/arif/Arif/Private/kaggle/pneumonia/rcnn\"\n",
    "img_dir = os.path.join(base_dir,\"app/assets/data/stage_2_train_images_png\")\n",
    "img_dir"
   ]
  },
  {
   "cell_type": "markdown",
   "metadata": {},
   "source": [
    "# Step 1: Create initial regions by Felzenszwalb’s efficient graph based segmentation algorithm\n",
    "\n",
    "J.R.R. Uijlings's graph segmentation is an unsupervised method to partition the image into several regions. \n",
    "It uses the graph representation of an image.\n",
    "In graph formulation, each pixel intensity is vertice and the pair of the adjacent pixels is edge (See Figure that \n",
    "I took from [Shih-Shinh Huang's youtube tutorial: quarter DIP Efficient Graph Based Image Segmentation](https://www.youtube.com/watch?v=iDKeR_swA8g)).\n",
    "\n",
    "Weight measures the strength of the edge, and the absolute difference of intensities is used as a weight.\n",
    "Then the pixels should be combined into the same group with the idea that: \n",
    "\n",
    "- edges between two vertices in the same group should have lower weights\n",
    "- edges between two vertices in the different group should have higher weights \n",
    "\n",
    "![Shih-Shinh Huang's youtube tutorial](https://farm5.staticflickr.com/4873/44926733935_eae0a6373d_k.jpg)\n",
    "### Youtube\n",
    "(Credit: [Shih-Shinh Huang's youtube tutorial: quarter DIP Efficient Graph Based Image Segmentation](https://www.youtube.com/watch?v=iDKeR_swA8g))\n",
    "\n",
    "Thankfully, [skimage.segmentation: Comparison of segmentation and superpixel algorithms](http://scikit-image.org/docs/dev/auto_examples/segmentation/plot_segmentations.html#sphx-glr-auto-examples-segmentation-plot-segmentations-py) already implemented Felzenszwalb and Huttenlocher's segmentation algorithm. \n",
    "So we will use this implemented algorithm. \n",
    "\n",
    "Let's try it out and visualize the segmented images.\n",
    "The following codes randomly select 5 frames from PASCAL data and visualize its original image and segmented image."
   ]
  },
  {
   "cell_type": "code",
   "execution_count": null,
   "metadata": {},
   "outputs": [],
   "source": []
  }
 ],
 "metadata": {
  "kernelspec": {
   "display_name": "env_kaggle",
   "language": "python",
   "name": "env_kaggle"
  },
  "language_info": {
   "codemirror_mode": {
    "name": "ipython",
    "version": 3
   },
   "file_extension": ".py",
   "mimetype": "text/x-python",
   "name": "python",
   "nbconvert_exporter": "python",
   "pygments_lexer": "ipython3",
   "version": "3.6.6"
  }
 },
 "nbformat": 4,
 "nbformat_minor": 2
}
